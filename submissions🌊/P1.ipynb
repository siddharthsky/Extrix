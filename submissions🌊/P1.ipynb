{
 "cells": [
  {
   "cell_type": "code",
   "execution_count": null,
   "id": "ade3e33f",
   "metadata": {},
   "outputs": [],
   "source": [
    "import pandas as pd"
   ]
  },
  {
   "cell_type": "code",
   "execution_count": null,
   "id": "544e9517",
   "metadata": {},
   "outputs": [],
   "source": [
    "dfx =pd.read_excel(\"pension.xlsx\")\n",
    "\n",
    "#Removing Null Column\n",
    "dfx =dfx.iloc[:,1:]\n",
    "dfx[\"Total\"] = dfx[\"Deferred cashflows\"] + dfx[\"Pensioner cashflows\"]\n",
    "dfx = dfx.reset_index()\n",
    "dfx.rename({\"index\":\"yr\"},axis=1,inplace=True)"
   ]
  },
  {
   "cell_type": "code",
   "execution_count": null,
   "id": "bf1ec9df",
   "metadata": {},
   "outputs": [],
   "source": [
    "from ipywidgets import interactive\n",
    "Duration = 3\n",
    "def pv_calc(Discount_rate):\n",
    "    Dr= Discount_rate/100\n",
    "    dfx[\"PV\"] = dfx[\"Total\"] /((1+Dr))**Duration\n",
    "    total_pv = dfx[\"PV\"].mean()\n",
    "    print(f\"Present Value of Liabilities = {total_pv}\")\n",
    "\n",
    "\n",
    "interactive_plot = interactive(pv_calc, Discount_rate=(1, 30))\n",
    "output = interactive_plot.children[-1]\n",
    "output.layout.height = '350px'\n",
    "interactive_plot\n",
    "\n",
    "\n",
    "\n",
    "\n",
    "\n"
   ]
  },
  {
   "cell_type": "code",
   "execution_count": null,
   "id": "1acb98c4",
   "metadata": {},
   "outputs": [],
   "source": []
  }
 ],
 "metadata": {
  "kernelspec": {
   "display_name": "Python 3 (ipykernel)",
   "language": "python",
   "name": "python3"
  },
  "language_info": {
   "codemirror_mode": {
    "name": "ipython",
    "version": 3
   },
   "file_extension": ".py",
   "mimetype": "text/x-python",
   "name": "python",
   "nbconvert_exporter": "python",
   "pygments_lexer": "ipython3",
   "version": "3.9.7"
  }
 },
 "nbformat": 4,
 "nbformat_minor": 5
}
