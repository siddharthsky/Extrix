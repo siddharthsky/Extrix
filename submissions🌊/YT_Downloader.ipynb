{
 "cells": [
  {
   "cell_type": "code",
   "execution_count": 2,
   "id": "f8e0a3c5",
   "metadata": {},
   "outputs": [
    {
     "ename": "AttributeError",
     "evalue": "'NoneType' object has no attribute 'download'",
     "output_type": "error",
     "traceback": [
      "\u001b[1;31m---------------------------------------------------------------------------\u001b[0m",
      "\u001b[1;31mAttributeError\u001b[0m                            Traceback (most recent call last)",
      "\u001b[1;32m~\\AppData\\Local\\Temp\\ipykernel_1720\\2317768389.py\u001b[0m in \u001b[0;36m<module>\u001b[1;34m\u001b[0m\n\u001b[0;32m     31\u001b[0m \u001b[1;33m\u001b[0m\u001b[0m\n\u001b[0;32m     32\u001b[0m     \u001b[1;31m# download the video\u001b[0m\u001b[1;33m\u001b[0m\u001b[1;33m\u001b[0m\u001b[0m\n\u001b[1;32m---> 33\u001b[1;33m     \u001b[0mstream\u001b[0m\u001b[1;33m.\u001b[0m\u001b[0mdownload\u001b[0m\u001b[1;33m(\u001b[0m\u001b[1;33m)\u001b[0m\u001b[1;33m\u001b[0m\u001b[1;33m\u001b[0m\u001b[0m\n\u001b[0m",
      "\u001b[1;31mAttributeError\u001b[0m: 'NoneType' object has no attribute 'download'"
     ]
    }
   ],
   "source": [
    "from pytube import YouTube\n",
    "\n",
    "# list of YouTube video links\n",
    "video_links = [\n",
    " \"https://www.youtube.com/watch?v=gPH4rK7g3tk\",\n",
    "\"https://www.youtube.com/watch?v=DIyJH2T-1rg\",\n",
    "\"https://www.youtube.com/watch?v=8U75beC9whs\",\n",
    "\"https://www.youtube.com/watch?v=jiFY4p6Bc0E\",\n",
    "\"https://www.youtube.com/watch?v=bIfAmrybEiE\",\n",
    "\"https://www.youtube.com/watch?v=kU1u7rTXYZE\",\n",
    "\"https://www.youtube.com/watch?v=4E2akFLaGmk\",\n",
    "\"https://www.youtube.com/watch?v=aF-L9Ha4M-A\",\n",
    "\"https://www.youtube.com/watch?v=hgPhrQTbt7E\",\n",
    "\"https://www.youtube.com/shorts/CZMDugg8Ff8\",\n",
    "\"https://www.youtube.com/shorts/DNxmQoNJcwc\",\n",
    "\"https://www.youtube.com/shorts/zZxijSdcAdw\",\n",
    "\"https://www.youtube.com/shorts/YGyw0MWL0gU\",\n",
    "\"https://www.youtube.com/shorts/-vV9oqfSZb0\",\n",
    "\"https://www.youtube.com/shorts/S8hM9xWqdJo\",\n",
    "\"https://www.youtube.com/shorts/nXFRpgJrZa8\",\n",
    "\"https://www.youtube.com/shorts/Z6fTI3pO5PQ\"\n",
    "]\n",
    "\n",
    "# loop through the links and download each video\n",
    "for link in video_links:\n",
    "    # create a YouTube object\n",
    "    yt = YouTube(link)\n",
    "\n",
    "    # get the video stream with resolution 480p and without audio\n",
    "    stream = yt.streams.filter(res=\"480p\", only_video=True).first()\n",
    "\n",
    "    # download the video\n",
    "    stream.download()"
   ]
  },
  {
   "cell_type": "code",
   "execution_count": null,
   "id": "5f0e99ac",
   "metadata": {},
   "outputs": [],
   "source": []
  }
 ],
 "metadata": {
  "kernelspec": {
   "display_name": "Python 3 (ipykernel)",
   "language": "python",
   "name": "python3"
  },
  "language_info": {
   "codemirror_mode": {
    "name": "ipython",
    "version": 3
   },
   "file_extension": ".py",
   "mimetype": "text/x-python",
   "name": "python",
   "nbconvert_exporter": "python",
   "pygments_lexer": "ipython3",
   "version": "3.9.13"
  }
 },
 "nbformat": 4,
 "nbformat_minor": 5
}
